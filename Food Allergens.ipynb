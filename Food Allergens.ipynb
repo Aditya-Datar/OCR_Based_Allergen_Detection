{
 "cells": [
  {
   "cell_type": "code",
   "execution_count": 2,
   "id": "709c8cdd",
   "metadata": {},
   "outputs": [],
   "source": [
    "import numpy as np\n",
    "import pandas as pd\n",
    "import matplotlib.pyplot as plt"
   ]
  },
  {
   "cell_type": "code",
   "execution_count": 1,
   "id": "28c4ced6",
   "metadata": {},
   "outputs": [
    {
     "name": "stdout",
     "output_type": "stream",
     "text": [
      "Defaulting to user installation because normal site-packages is not writeable\n",
      "Requirement already satisfied: pandas in c:\\users\\asus\\appdata\\roaming\\python\\python37\\site-packages (1.3.5)\n",
      "Requirement already satisfied: python-dateutil>=2.7.3 in c:\\users\\asus\\appdata\\roaming\\python\\python37\\site-packages (from pandas) (2.8.2)\n",
      "Requirement already satisfied: pytz>=2017.3 in c:\\users\\asus\\appdata\\roaming\\python\\python37\\site-packages (from pandas) (2022.7.1)\n",
      "Requirement already satisfied: numpy>=1.17.3 in c:\\users\\asus\\appdata\\roaming\\python\\python37\\site-packages (from pandas) (1.21.6)\n",
      "Requirement already satisfied: six>=1.5 in c:\\users\\asus\\appdata\\roaming\\python\\python37\\site-packages (from python-dateutil>=2.7.3->pandas) (1.16.0)\n"
     ]
    },
    {
     "name": "stderr",
     "output_type": "stream",
     "text": [
      "\n",
      "[notice] A new release of pip is available: 23.0.1 -> 23.1.2\n",
      "[notice] To update, run: python.exe -m pip install --upgrade pip\n"
     ]
    }
   ],
   "source": [
    "!pip install pandas\n"
   ]
  },
  {
   "cell_type": "code",
   "execution_count": 2,
   "id": "71a43d39",
   "metadata": {},
   "outputs": [
    {
     "ename": "NameError",
     "evalue": "name 'pd' is not defined",
     "output_type": "error",
     "traceback": [
      "\u001b[1;31m---------------------------------------------------------------------------\u001b[0m",
      "\u001b[1;31mNameError\u001b[0m                                 Traceback (most recent call last)",
      "Input \u001b[1;32mIn [2]\u001b[0m, in \u001b[0;36m<cell line: 1>\u001b[1;34m()\u001b[0m\n\u001b[1;32m----> 1\u001b[0m df \u001b[38;5;241m=\u001b[39m \u001b[43mpd\u001b[49m\u001b[38;5;241m.\u001b[39mread_csv(\u001b[38;5;124m\"\u001b[39m\u001b[38;5;124mFoodData.csv\u001b[39m\u001b[38;5;124m\"\u001b[39m)\n",
      "\u001b[1;31mNameError\u001b[0m: name 'pd' is not defined"
     ]
    }
   ],
   "source": [
    "df = pd.read_csv(\"FoodData.csv\")"
   ]
  },
  {
   "cell_type": "code",
   "execution_count": 4,
   "id": "2f78bc71",
   "metadata": {},
   "outputs": [
    {
     "data": {
      "text/html": [
       "<div>\n",
       "<style scoped>\n",
       "    .dataframe tbody tr th:only-of-type {\n",
       "        vertical-align: middle;\n",
       "    }\n",
       "\n",
       "    .dataframe tbody tr th {\n",
       "        vertical-align: top;\n",
       "    }\n",
       "\n",
       "    .dataframe thead th {\n",
       "        text-align: right;\n",
       "    }\n",
       "</style>\n",
       "<table border=\"1\" class=\"dataframe\">\n",
       "  <thead>\n",
       "    <tr style=\"text-align: right;\">\n",
       "      <th></th>\n",
       "      <th>Class</th>\n",
       "      <th>Type</th>\n",
       "      <th>Group</th>\n",
       "      <th>Food</th>\n",
       "      <th>Allergy</th>\n",
       "    </tr>\n",
       "  </thead>\n",
       "  <tbody>\n",
       "    <tr>\n",
       "      <th>0</th>\n",
       "      <td>Plant origin</td>\n",
       "      <td>Nut and seed</td>\n",
       "      <td>Oil seed</td>\n",
       "      <td>Almond</td>\n",
       "      <td>Nut Allergy</td>\n",
       "    </tr>\n",
       "    <tr>\n",
       "      <th>1</th>\n",
       "      <td>Plant origin</td>\n",
       "      <td>Fruit</td>\n",
       "      <td>Pome fruit</td>\n",
       "      <td>Apple</td>\n",
       "      <td>Oral Allergy Syndrome</td>\n",
       "    </tr>\n",
       "    <tr>\n",
       "      <th>2</th>\n",
       "      <td>Plant origin</td>\n",
       "      <td>Fruit</td>\n",
       "      <td>Stone fruit</td>\n",
       "      <td>Apricot</td>\n",
       "      <td>Stone Fruit Allergy</td>\n",
       "    </tr>\n",
       "    <tr>\n",
       "      <th>3</th>\n",
       "      <td>Plant origin</td>\n",
       "      <td>Vegetable</td>\n",
       "      <td>Composite vegetable</td>\n",
       "      <td>Artichoke</td>\n",
       "      <td>Insulin Allergy</td>\n",
       "    </tr>\n",
       "    <tr>\n",
       "      <th>4</th>\n",
       "      <td>Plant origin</td>\n",
       "      <td>Vegetable</td>\n",
       "      <td>Liliaceous vegetable</td>\n",
       "      <td>Asparagus</td>\n",
       "      <td>Allium Allergy</td>\n",
       "    </tr>\n",
       "  </tbody>\n",
       "</table>\n",
       "</div>"
      ],
      "text/plain": [
       "          Class          Type                 Group       Food  \\\n",
       "0  Plant origin  Nut and seed              Oil seed     Almond   \n",
       "1  Plant origin         Fruit            Pome fruit      Apple   \n",
       "2  Plant origin         Fruit           Stone fruit    Apricot   \n",
       "3  Plant origin     Vegetable   Composite vegetable  Artichoke   \n",
       "4  Plant origin     Vegetable  Liliaceous vegetable  Asparagus   \n",
       "\n",
       "                 Allergy  \n",
       "0            Nut Allergy  \n",
       "1  Oral Allergy Syndrome  \n",
       "2    Stone Fruit Allergy  \n",
       "3        Insulin Allergy  \n",
       "4         Allium Allergy  "
      ]
     },
     "execution_count": 4,
     "metadata": {},
     "output_type": "execute_result"
    }
   ],
   "source": [
    "df.head()"
   ]
  },
  {
   "cell_type": "code",
   "execution_count": 5,
   "id": "63da20ed",
   "metadata": {},
   "outputs": [
    {
     "data": {
      "text/plain": [
       "array(['Plant origin', 'Animal origin', 'Mineral waters'], dtype=object)"
      ]
     },
     "execution_count": 5,
     "metadata": {},
     "output_type": "execute_result"
    }
   ],
   "source": [
    "df['Class'].unique()"
   ]
  },
  {
   "cell_type": "code",
   "execution_count": 6,
   "id": "677de9b9",
   "metadata": {},
   "outputs": [
    {
     "data": {
      "text/plain": [
       "array(['Nut and seed', 'Fruit', 'Vegetable', 'Cereal grain and pulse',\n",
       "       'Aquatic animal', 'Dairy', 'Oil', 'Terrestrial mammal', 'Poultry',\n",
       "       'Bee product', 'Hop', 'Mineral water', 'Spice and herb', 'Tea'],\n",
       "      dtype=object)"
      ]
     },
     "execution_count": 6,
     "metadata": {},
     "output_type": "execute_result"
    }
   ],
   "source": [
    "df['Type'].unique()"
   ]
  },
  {
   "cell_type": "code",
   "execution_count": 7,
   "id": "a0d35129",
   "metadata": {},
   "outputs": [
    {
     "data": {
      "text/plain": [
       "array(['Oil seed', 'Pome fruit', 'Stone fruit', 'Composite vegetable',\n",
       "       'Liliaceous vegetable', 'Tropical fruit',\n",
       "       'Miscellaneous vegetable', 'Cereal grain', 'Pulse', 'Berry',\n",
       "       'Fish', 'Cruciferous vegetable', 'Dairy', 'Mushroom',\n",
       "       'Beverage seed', 'Oil', 'Umbelliferous vegetable', 'Offal',\n",
       "       'Shellfish', 'Cucurbitaceous vegetable', 'Solanceous vegetable',\n",
       "       'Egg', 'Sugar source', 'Grape', 'Citrus fruit / citric acid',\n",
       "       'Legumes vegetable', 'Bee product', 'Hop', 'Potato',\n",
       "       'Mineral water', 'Herb', 'Spice', 'Tea'], dtype=object)"
      ]
     },
     "execution_count": 7,
     "metadata": {},
     "output_type": "execute_result"
    }
   ],
   "source": [
    "df['Group'].unique()"
   ]
  },
  {
   "cell_type": "code",
   "execution_count": 8,
   "id": "d61afff1",
   "metadata": {},
   "outputs": [
    {
     "data": {
      "text/plain": [
       "array(['Almond', 'Apple', 'Apricot', 'Artichoke', 'Asparagus', 'Avocado',\n",
       "       'Bamboo shoot', 'Banana', 'Barley', 'Bean', 'Blackberry',\n",
       "       'Black-eyed bean', 'Blueberry', 'Bonito', 'Broad bean', 'Broccoli',\n",
       "       'Brussels sprouts', 'Buckwheat', 'Burdock', 'Butter',\n",
       "       'Butter bean', 'Buttermilk', 'Button mushroom', 'Cabbage',\n",
       "       'Cacao bean', 'Canola oil', 'Carrot', 'Casein', 'Cattle',\n",
       "       'Cauliflower', 'Celery', 'Cheese', 'Cherry', 'Chestnut', 'Chicken',\n",
       "       'Chicory', 'Chinese cabbage', 'Coconut oil', 'Coffee bean', 'Corn',\n",
       "       'Corn oil', 'Cotton seed', 'Cranberry', 'Cream', 'Crustaceans',\n",
       "       'Cucumber ', 'Custard', 'Date', 'Deer', 'Duck', 'Eel', 'Egg plant',\n",
       "       'Eggs', 'Endive', 'Fructose', 'Garlic', 'Ghrkin', 'Ginger',\n",
       "       'Ginkgo nut', 'Globfish', 'Glucose', 'Goat', 'Grape', 'Grapefruit',\n",
       "       'Grapeseed oil', 'Green soybean', 'Groundnut oil', 'Guava',\n",
       "       'Honey', 'Hop', 'Horse', 'Horse Mackerel', 'Horseradish',\n",
       "       'Huckleberry', 'Ice cream', 'Japanese pear', 'Japanese persimmon',\n",
       "       'Japanese plum', 'Kale', 'Kidney bean', 'Kiwi', 'Konjac', 'Kyona',\n",
       "       'Lactose', 'Leek', 'Lemon', 'Lentil', 'Lettuce ', 'Lima bean',\n",
       "       'Lime', 'Loquat', 'Mackerel', 'Makuwauri  melon', 'Mango',\n",
       "       'Melons', 'Milk', 'Mineral water', 'Mitsuba', 'Mume plum',\n",
       "       'Mustard oil', 'Mustard Spinach', 'Nectarine', 'Nira', 'Okra',\n",
       "       'Olive oil', 'Onion', 'Orange', 'Orange pulp', 'Papaya', 'Parsley',\n",
       "       'Parsnip', 'Passion fruit', 'Peach', 'Peanut', 'Pear', 'Peas',\n",
       "       'Pecan', 'Pegia', 'Peppermint', 'Percifomes', 'Pig', 'Pineapple',\n",
       "       'Popcorn', 'Potato', 'Prune', 'Pumpkin', 'Qing-geng-cai', 'Quince',\n",
       "       'Radish leaf', 'Radish root', 'Rapeseed', 'Raspberry', 'Rice',\n",
       "       'Ricebran oil', 'Royal Jelly', 'Rye', 'Safflower seed', 'Salmon',\n",
       "       'Salsify', 'Sansho', 'Sea Bass', 'Sea Bream', 'Sesame seed',\n",
       "       'Shallot', 'Sheep', 'Shelled mollusc', 'Shiitake  mushroom',\n",
       "       'Shungiku', 'Sour cream', 'Soybean', 'Spearmint', 'Spinach',\n",
       "       'Squash', 'Strawberry', 'Sugar', 'Sugar beet', 'Sugarcane',\n",
       "       'Sultani', 'Sultapya', 'Sunflower oil', 'Sunflower seed',\n",
       "       'Sweet corn', 'Sweet Pepper', 'Sweet potato', 'Taro', 'Tea',\n",
       "       'Tetraodontiformes', 'Tomato', 'Trout', 'Tuna', 'Turkey',\n",
       "       'Turnip leaf', 'Turnip root', 'Vegetable oil', 'Walnut',\n",
       "       'Water melon', 'Watercress', 'Welsh', 'Wheat', 'Whey',\n",
       "       'White bean', 'Yam', 'Yogurt '], dtype=object)"
      ]
     },
     "execution_count": 8,
     "metadata": {},
     "output_type": "execute_result"
    }
   ],
   "source": [
    "df['Food'].unique()"
   ]
  },
  {
   "cell_type": "code",
   "execution_count": 9,
   "id": "2507ec2e",
   "metadata": {},
   "outputs": [
    {
     "data": {
      "text/plain": [
       "array(['Nut Allergy', 'Oral Allergy Syndrome', 'Stone Fruit Allergy',\n",
       "       'Insulin Allergy', 'Allium Allergy', 'Histamine Allergy',\n",
       "       'Banana Allergy', 'Gluten Allergy', 'Legume Allergy',\n",
       "       'Salicylate Allergy', 'Broccoli allergy', 'Cruciferous Allergy',\n",
       "       'Ragweed Allergy', 'Milk allergy / Lactose intolerance',\n",
       "       'Mushroom Allergy', nan, 'Hypersensitivity', 'Alpha-gal Syndrome',\n",
       "       'Poultry Allergy', 'Ochratoxin Allergy', 'Corn Allergy',\n",
       "       'Seed Allergy', 'Shellfish Allergy', 'Fish Allergy',\n",
       "       'Nightshade Allergy', 'Sugar Allergy / Intolerance', 'LTP Allergy',\n",
       "       'Citrus Allergy', 'Honey Allergy', 'Beer Allergy',\n",
       "       'Potato Allergy', 'Lactose Intolerance', 'Aquagenic Urticaria',\n",
       "       'Peanut Allergy', 'Mint Allergy', 'Rice Allergy', 'Pepper Allergy',\n",
       "       'Soy Allergy', 'Tannin Allergy', 'Thyroid'], dtype=object)"
      ]
     },
     "execution_count": 9,
     "metadata": {},
     "output_type": "execute_result"
    }
   ],
   "source": [
    "df['Allergy'].unique()"
   ]
  },
  {
   "cell_type": "code",
   "execution_count": 10,
   "id": "c3a8fc12",
   "metadata": {},
   "outputs": [
    {
     "data": {
      "text/plain": [
       "Class       0\n",
       "Type        0\n",
       "Group       0\n",
       "Food        0\n",
       "Allergy    22\n",
       "dtype: int64"
      ]
     },
     "execution_count": 10,
     "metadata": {},
     "output_type": "execute_result"
    }
   ],
   "source": [
    "df.isnull().sum()"
   ]
  },
  {
   "cell_type": "code",
   "execution_count": 11,
   "id": "1d5540c5",
   "metadata": {},
   "outputs": [
    {
     "data": {
      "text/html": [
       "<div>\n",
       "<style scoped>\n",
       "    .dataframe tbody tr th:only-of-type {\n",
       "        vertical-align: middle;\n",
       "    }\n",
       "\n",
       "    .dataframe tbody tr th {\n",
       "        vertical-align: top;\n",
       "    }\n",
       "\n",
       "    .dataframe thead th {\n",
       "        text-align: right;\n",
       "    }\n",
       "</style>\n",
       "<table border=\"1\" class=\"dataframe\">\n",
       "  <thead>\n",
       "    <tr style=\"text-align: right;\">\n",
       "      <th></th>\n",
       "      <th>Class</th>\n",
       "      <th>Type</th>\n",
       "      <th>Group</th>\n",
       "      <th>Food</th>\n",
       "      <th>Allergy</th>\n",
       "    </tr>\n",
       "  </thead>\n",
       "  <tbody>\n",
       "    <tr>\n",
       "      <th>0</th>\n",
       "      <td>Plant origin</td>\n",
       "      <td>Nut and seed</td>\n",
       "      <td>Oil seed</td>\n",
       "      <td>Almond</td>\n",
       "      <td>Nut Allergy</td>\n",
       "    </tr>\n",
       "    <tr>\n",
       "      <th>1</th>\n",
       "      <td>Plant origin</td>\n",
       "      <td>Fruit</td>\n",
       "      <td>Pome fruit</td>\n",
       "      <td>Apple</td>\n",
       "      <td>Oral Allergy Syndrome</td>\n",
       "    </tr>\n",
       "    <tr>\n",
       "      <th>2</th>\n",
       "      <td>Plant origin</td>\n",
       "      <td>Fruit</td>\n",
       "      <td>Stone fruit</td>\n",
       "      <td>Apricot</td>\n",
       "      <td>Stone Fruit Allergy</td>\n",
       "    </tr>\n",
       "    <tr>\n",
       "      <th>3</th>\n",
       "      <td>Plant origin</td>\n",
       "      <td>Vegetable</td>\n",
       "      <td>Composite vegetable</td>\n",
       "      <td>Artichoke</td>\n",
       "      <td>Insulin Allergy</td>\n",
       "    </tr>\n",
       "    <tr>\n",
       "      <th>4</th>\n",
       "      <td>Plant origin</td>\n",
       "      <td>Vegetable</td>\n",
       "      <td>Liliaceous vegetable</td>\n",
       "      <td>Asparagus</td>\n",
       "      <td>Allium Allergy</td>\n",
       "    </tr>\n",
       "    <tr>\n",
       "      <th>...</th>\n",
       "      <td>...</td>\n",
       "      <td>...</td>\n",
       "      <td>...</td>\n",
       "      <td>...</td>\n",
       "      <td>...</td>\n",
       "    </tr>\n",
       "    <tr>\n",
       "      <th>179</th>\n",
       "      <td>Plant origin</td>\n",
       "      <td>Cereal grain and pulse</td>\n",
       "      <td>Cereal grain</td>\n",
       "      <td>Wheat</td>\n",
       "      <td>Gluten Allergy</td>\n",
       "    </tr>\n",
       "    <tr>\n",
       "      <th>180</th>\n",
       "      <td>Animal origin</td>\n",
       "      <td>Dairy</td>\n",
       "      <td>Dairy</td>\n",
       "      <td>Whey</td>\n",
       "      <td>Milk allergy / Lactose intolerance</td>\n",
       "    </tr>\n",
       "    <tr>\n",
       "      <th>181</th>\n",
       "      <td>Plant origin</td>\n",
       "      <td>Cereal grain and pulse</td>\n",
       "      <td>Pulse</td>\n",
       "      <td>White bean</td>\n",
       "      <td>Legume Allergy</td>\n",
       "    </tr>\n",
       "    <tr>\n",
       "      <th>182</th>\n",
       "      <td>Plant origin</td>\n",
       "      <td>Vegetable</td>\n",
       "      <td>Potato</td>\n",
       "      <td>Yam</td>\n",
       "      <td>Potato Allergy</td>\n",
       "    </tr>\n",
       "    <tr>\n",
       "      <th>183</th>\n",
       "      <td>Animal origin</td>\n",
       "      <td>Dairy</td>\n",
       "      <td>Dairy</td>\n",
       "      <td>Yogurt</td>\n",
       "      <td>Milk allergy / Lactose intolerance</td>\n",
       "    </tr>\n",
       "  </tbody>\n",
       "</table>\n",
       "<p>184 rows × 5 columns</p>\n",
       "</div>"
      ],
      "text/plain": [
       "             Class                    Type                 Group        Food  \\\n",
       "0     Plant origin            Nut and seed              Oil seed      Almond   \n",
       "1     Plant origin                   Fruit            Pome fruit       Apple   \n",
       "2     Plant origin                   Fruit           Stone fruit     Apricot   \n",
       "3     Plant origin               Vegetable   Composite vegetable   Artichoke   \n",
       "4     Plant origin               Vegetable  Liliaceous vegetable   Asparagus   \n",
       "..             ...                     ...                   ...         ...   \n",
       "179   Plant origin  Cereal grain and pulse          Cereal grain       Wheat   \n",
       "180  Animal origin                   Dairy                 Dairy        Whey   \n",
       "181   Plant origin  Cereal grain and pulse                 Pulse  White bean   \n",
       "182   Plant origin               Vegetable                Potato         Yam   \n",
       "183  Animal origin                   Dairy                 Dairy     Yogurt    \n",
       "\n",
       "                                Allergy  \n",
       "0                           Nut Allergy  \n",
       "1                 Oral Allergy Syndrome  \n",
       "2                   Stone Fruit Allergy  \n",
       "3                       Insulin Allergy  \n",
       "4                        Allium Allergy  \n",
       "..                                  ...  \n",
       "179                      Gluten Allergy  \n",
       "180  Milk allergy / Lactose intolerance  \n",
       "181                      Legume Allergy  \n",
       "182                      Potato Allergy  \n",
       "183  Milk allergy / Lactose intolerance  \n",
       "\n",
       "[184 rows x 5 columns]"
      ]
     },
     "execution_count": 11,
     "metadata": {},
     "output_type": "execute_result"
    }
   ],
   "source": [
    "#imputing with most common class\n",
    "df1 = df.apply(lambda x: x.fillna(x.value_counts().index[0]))\n",
    "df1\n"
   ]
  },
  {
   "cell_type": "code",
   "execution_count": 12,
   "id": "c6f7618b",
   "metadata": {},
   "outputs": [
    {
     "data": {
      "text/plain": [
       "Class      0\n",
       "Type       0\n",
       "Group      0\n",
       "Food       0\n",
       "Allergy    0\n",
       "dtype: int64"
      ]
     },
     "execution_count": 12,
     "metadata": {},
     "output_type": "execute_result"
    }
   ],
   "source": [
    "df1.isnull().sum()"
   ]
  },
  {
   "cell_type": "code",
   "execution_count": 13,
   "id": "babdf4bd",
   "metadata": {},
   "outputs": [
    {
     "data": {
      "text/plain": [
       "<AxesSubplot:title={'center':'Class Distribution'}>"
      ]
     },
     "execution_count": 13,
     "metadata": {},
     "output_type": "execute_result"
    },
    {
     "data": {
      "image/png": "[encoded data removed]",
      "text/plain": [
       "<Figure size 432x288 with 1 Axes>"
      ]
     },
     "metadata": {
      "needs_background": "light"
     },
     "output_type": "display_data"
    }
   ],
   "source": [
    "df1['Class'].value_counts().plot(kind = 'bar', title = 'Class Distribution')"
   ]
  },
  {
   "cell_type": "markdown",
   "id": "ba0178d2",
   "metadata": {},
   "source": [
    "As we can see, most of food items are plant based origin."
   ]
  },
  {
   "cell_type": "code",
   "execution_count": 14,
   "id": "3735a6ad",
   "metadata": {},
   "outputs": [
    {
     "data": {
      "text/plain": [
       "<AxesSubplot:title={'center':'Class Distribution'}>"
      ]
     },
     "execution_count": 14,
     "metadata": {},
     "output_type": "execute_result"
    },
    {
     "data": {
      "image/png": "[encoded data removed]",
      "text/plain": [
       "<Figure size 432x288 with 1 Axes>"
      ]
     },
     "metadata": {
      "needs_background": "light"
     },
     "output_type": "display_data"
    }
   ],
   "source": [
    "df1['Type'].value_counts().plot(kind = 'bar', title = 'Class Distribution')"
   ]
  },
  {
   "cell_type": "markdown",
   "id": "ee97c34c",
   "metadata": {},
   "source": [
    "Following from a majority of plant origin food items, most of them are vegetables."
   ]
  },
  {
   "cell_type": "code",
   "execution_count": 18,
   "id": "9c80e869",
   "metadata": {},
   "outputs": [
    {
     "data": {
      "text/plain": [
       "<AxesSubplot:title={'center':'Class Distribution'}>"
      ]
     },
     "execution_count": 18,
     "metadata": {},
     "output_type": "execute_result"
    },
    {
     "data": {
      "image/png": "[encoded data removed]",
      "text/plain": [
       "<Figure size 432x288 with 1 Axes>"
      ]
     },
     "metadata": {
      "needs_background": "light"
     },
     "output_type": "display_data"
    }
   ],
   "source": [
    "df1['Group'].value_counts()[:6].plot(kind = 'bar', title = 'Class Distribution')"
   ]
  },
  {
   "cell_type": "code",
   "execution_count": 20,
   "id": "25ee4a33",
   "metadata": {},
   "outputs": [
    {
     "data": {
      "text/plain": [
       "Legume Allergy                        36\n",
       "Oral Allergy Syndrome                 13\n",
       "Fish Allergy                          12\n",
       "Milk allergy / Lactose intolerance    11\n",
       "Cruciferous Allergy                    9\n",
       "Stone Fruit Allergy                    7\n",
       "Allium Allergy                         7\n",
       "Alpha-gal Syndrome                     6\n",
       "Hypersensitivity                       6\n",
       "Salicylate Allergy                     6\n",
       "Sugar Allergy / Intolerance            5\n",
       "Name: Allergy, dtype: int64"
      ]
     },
     "execution_count": 20,
     "metadata": {},
     "output_type": "execute_result"
    }
   ],
   "source": [
    "df1['Allergy'].value_counts()[:11]"
   ]
  },
  {
   "cell_type": "code",
   "execution_count": 21,
   "id": "88a7dc12",
   "metadata": {},
   "outputs": [
    {
     "data": {
      "text/plain": [
       "<AxesSubplot:title={'center':'Class Distribution'}, ylabel='Allergy'>"
      ]
     },
     "execution_count": 21,
     "metadata": {},
     "output_type": "execute_result"
    },
    {
     "data": {
      "image/png": "[encoded data removed]",
      "text/plain": [
       "<Figure size 432x288 with 1 Axes>"
      ]
     },
     "metadata": {},
     "output_type": "display_data"
    }
   ],
   "source": [
    "df1['Allergy'].value_counts()[:6].plot(kind = 'pie', title = 'Class Distribution')"
   ]
  },
  {
   "cell_type": "markdown",
   "id": "d23cdbdb",
   "metadata": {},
   "source": [
    "Conclusions drawn from above charts:\n",
    "1] Plant based allergens are in majority as compared to other allergens.\n",
    "2] We can roughly distribute allergies into 4 categories which are\n",
    "Fruit based(Stone Fruit), Meat based(Fish,eggs,red meat,etc), Milk based(Lactose intollerancy), Skin based(Oral Allergy Syndrome,Hypersensitivity)."
   ]
  }
 ],
 "metadata": {
  "kernelspec": {
   "display_name": "Python 3 (ipykernel)",
   "language": "python",
   "name": "python3"
  },
  "language_info": {
   "codemirror_mode": {
    "name": "ipython",
    "version": 3
   },
   "file_extension": ".py",
   "mimetype": "text/x-python",
   "name": "python",
   "nbconvert_exporter": "python",
   "pygments_lexer": "ipython3",
   "version": "3.9.6"
  }
 },
 "nbformat": 4,
 "nbformat_minor": 5
}
